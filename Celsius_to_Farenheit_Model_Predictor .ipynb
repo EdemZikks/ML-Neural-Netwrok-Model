{
  "cells": [
    {
      "cell_type": "markdown",
      "source": [
        "This project seeks to create a Neural Network Model which would help in predicting Fahrenheit values from Celsius."
      ],
      "metadata": {
        "id": "2sYc-AMyAwoq"
      },
      "id": "2sYc-AMyAwoq"
    },
    {
      "cell_type": "code",
      "execution_count": 1,
      "id": "45a42191",
      "metadata": {
        "id": "45a42191"
      },
      "outputs": [],
      "source": [
        "# Import TensorFlow, Sklearn, NumPy, Matplotlib\n",
        "import tensorflow as tf\n",
        "from sklearn.model_selection import train_test_split\n",
        "import numpy as np\n",
        "import matplotlib.pyplot as plt"
      ]
    },
    {
      "cell_type": "code",
      "execution_count": 2,
      "id": "9d0997f4",
      "metadata": {
        "id": "9d0997f4"
      },
      "outputs": [],
      "source": [
        "# Create the training data\n",
        "celsius = np.array([-40,\t-38,\t-32,\t-31,\t-25,\t-19,\t-17,\t-11,\t-8,\t-6,\t-5,\n",
        "                    -4,\t-2,\t0,\t1,\t2,\t4,\t5,\t7,\t9,\t13,\t17,\t19,\t26,\t27,\t28,\n",
        "                    32,\t33,\t36,\t39,\t40,\t41,\t43,\t49,\t50,\t52,\t56,\t58,\t59,\t63,\t65,\n",
        "                    70,\t76,\t79,\t83,\t88,\t91,\t96,\t99,\t100], dtype=float)\n",
        "\n",
        "fahrenheit = np.array([-40,\t-36.4,\t-25.6,\t-23.8,\t-13,\t-2.2,\t1.4,\t12.2,\t17.6,\n",
        "                       21.2,\t23,\t24.8,\t28.4,\t32,\t33.8,\t35.6,\t39.2,\t41,\t44.6,\n",
        "                       48.2,\t55.4,\t62.6,\t66.2,\t78.8,\t80.6,\t82.4,\t89.6,\t91.4,\n",
        "                       96.8,\t102.2,\t104,\t105.8,\t109.4,\t120.2,\t122,\t125.6,\n",
        "                       132.8,\t136.4,\t138.2,\t145.4,\t149,\t158,\t168.8,\t174.2,\n",
        "                       181.4,\t190.4,\t195.8,\t204.8,\t210.2,\t212], dtype=float)"
      ]
    },
    {
      "cell_type": "code",
      "source": [
        "# Perform train-test split\n",
        "celsius_train, celsius_test, fahrenheit_train, fahrenheit_test = train_test_split(celsius, fahrenheit, test_size=0.2, random_state=42)\n"
      ],
      "metadata": {
        "id": "o-s54PkOFX4x"
      },
      "id": "o-s54PkOFX4x",
      "execution_count": 3,
      "outputs": []
    },
    {
      "cell_type": "markdown",
      "source": [
        "Model Creation"
      ],
      "metadata": {
        "id": "TQG3kgLRQbY-"
      },
      "id": "TQG3kgLRQbY-"
    },
    {
      "cell_type": "code",
      "execution_count": 4,
      "id": "4ac52aa6",
      "metadata": {
        "id": "4ac52aa6"
      },
      "outputs": [],
      "source": [
        "# Create the model with two hidden layers and one output layer\n",
        "\n",
        "model = tf.keras.Sequential([\n",
        "  tf.keras.layers.Dense(units=64, input_shape=[1]),  # Add a hidden layer with 64 units\n",
        "  tf.keras.layers.Dense(units=128, activation='relu'),  # Add another hidden layer with 128 units and ReLU activation\n",
        "  tf.keras.layers.Dense(units=1)  # Output layer\n",
        "])"
      ]
    },
    {
      "cell_type": "code",
      "execution_count": 5,
      "id": "2fb2983a",
      "metadata": {
        "id": "2fb2983a"
      },
      "outputs": [],
      "source": [
        "# Compile the model with Adam optimizer and mean squared error loss function\n",
        "model.compile(optimizer='adam', loss='mean_squared_error')"
      ]
    },
    {
      "cell_type": "code",
      "execution_count": 6,
      "id": "54348a3a",
      "metadata": {
        "id": "54348a3a"
      },
      "outputs": [],
      "source": [
        "# Train the model for 500 epochs with 20% validation split\n",
        "history = model.fit(celsius_train, fahrenheit_train, epochs=500, validation_split=0.2, verbose = False)"
      ]
    },
    {
      "cell_type": "markdown",
      "source": [
        "Model Evaluation"
      ],
      "metadata": {
        "id": "4zb6G8dSOGZe"
      },
      "id": "4zb6G8dSOGZe"
    },
    {
      "cell_type": "code",
      "execution_count": 7,
      "id": "5adcac15",
      "metadata": {
        "colab": {
          "base_uri": "https://localhost:8080/",
          "height": 467
        },
        "id": "5adcac15",
        "outputId": "5ef0037e-012e-40c6-f55a-a3d93367cd26"
      },
      "outputs": [
        {
          "output_type": "execute_result",
          "data": {
            "text/plain": [
              "[<matplotlib.lines.Line2D at 0x7f3da0c8bb80>]"
            ]
          },
          "metadata": {},
          "execution_count": 7
        },
        {
          "output_type": "display_data",
          "data": {
            "text/plain": [
              "<Figure size 640x480 with 1 Axes>"
            ],
            "image/png": "[encoded data removed]"
          },
          "metadata": {}
        }
      ],
      "source": [
        "#create a graph showing the number of epochs and the magnitude of loss\n",
        "plt.xlabel('Number of Epoch')\n",
        "plt.ylabel('Loss Magnitude')\n",
        "plt.plot(history.history['loss'])"
      ]
    },
    {
      "cell_type": "code",
      "execution_count": 7,
      "id": "f4d9c5db",
      "metadata": {
        "id": "f4d9c5db"
      },
      "outputs": [],
      "source": []
    },
    {
      "cell_type": "code",
      "execution_count": 8,
      "id": "12bfd8ed",
      "metadata": {
        "colab": {
          "base_uri": "https://localhost:8080/"
        },
        "id": "12bfd8ed",
        "outputId": "8d79980e-3cb0-46ac-876f-0ce0eb9a8ff1"
      },
      "outputs": [
        {
          "output_type": "stream",
          "name": "stdout",
          "text": [
            "1/1 [==============================] - 0s 72ms/step\n"
          ]
        }
      ],
      "source": [
        "# Test the model with some random Celsius values\n",
        "pred = model.predict(celsius_test)\n",
        "\n"
      ]
    },
    {
      "cell_type": "code",
      "source": [
        "celsius_test"
      ],
      "metadata": {
        "colab": {
          "base_uri": "https://localhost:8080/"
        },
        "id": "qTG5Q6f0KdqU",
        "outputId": "440bdf2d-1098-4a8b-f8f4-f63a1f3e620a"
      },
      "id": "qTG5Q6f0KdqU",
      "execution_count": 9,
      "outputs": [
        {
          "output_type": "execute_result",
          "data": {
            "text/plain": [
              "array([ 0., 63., 40., 88.,  5., 99., 32., 28., 43.,  9.])"
            ]
          },
          "metadata": {},
          "execution_count": 9
        }
      ]
    },
    {
      "cell_type": "code",
      "execution_count": 10,
      "id": "3ae6d586",
      "metadata": {
        "colab": {
          "base_uri": "https://localhost:8080/"
        },
        "id": "3ae6d586",
        "outputId": "83640d77-5dbf-4d7f-e450-61dd203d33e7"
      },
      "outputs": [
        {
          "output_type": "stream",
          "name": "stdout",
          "text": [
            "Predicted Fahrenheit values:\n",
            "[[ 28.58938]\n",
            " [145.45859]\n",
            " [102.37241]\n",
            " [192.29143]\n",
            " [ 36.80239]\n",
            " [212.915  ]\n",
            " [ 87.3859 ]\n",
            " [ 79.89265]\n",
            " [107.99235]\n",
            " [ 44.29971]]\n"
          ]
        }
      ],
      "source": [
        "# Print the results\n",
        "print(\"Predicted Fahrenheit values:\")\n",
        "print(pred)\n"
      ]
    },
    {
      "cell_type": "code",
      "source": [
        "from sklearn.metrics import mean_squared_error, mean_absolute_error, r2_score\n",
        "\n",
        "# Calculate the evaluation metrics\n",
        "mse = mean_squared_error(fahrenheit_test, pred)\n",
        "mae = mean_absolute_error(fahrenheit_test, pred)\n",
        "r2 = r2_score(fahrenheit_test, pred)\n",
        "root_mean_squared_error = np.sqrt(mean_squared_error(fahrenheit_test, pred))\n",
        "mean_absolute_percentage_error = np.mean(np.abs(fahrenheit_test - pred) / fahrenheit_test) * 100\n",
        "\n",
        "# Print the evaluation metrics\n",
        "print(\"Mean Squared Error (MSE):\", mse)\n",
        "print(\"Mean Absolute Error (MAE):\", mae)\n",
        "print(\"R-squared (R2):\", r2)\n",
        "print(\"mean_absolute_percentage_error:\", mean_absolute_percentage_error)\n"
      ],
      "metadata": {
        "colab": {
          "base_uri": "https://localhost:8080/"
        },
        "id": "f2LWHcW2IJGv",
        "outputId": "fc653b55-243b-422b-bf10-7795ce63eae4"
      },
      "id": "f2LWHcW2IJGv",
      "execution_count": 11,
      "outputs": [
        {
          "output_type": "stream",
          "name": "stdout",
          "text": [
            "Mean Squared Error (MSE): 7.123620532337425\n",
            "Mean Absolute Error (MAE): 2.3930217361450206\n",
            "R-squared (R2): 0.9978678946941458\n",
            "mean_absolute_percentage_error: 86.75215135106792\n"
          ]
        }
      ]
    },
    {
      "cell_type": "markdown",
      "source": [
        "The low values of MSE and MAE indicate that the model's predictions are close to the actual values. The high R-squared value indicates that the model explains a significant amount of the variance in the target variable. The MAPE value indicates that, on average, the model's predictions have an error of approximately 86% relative to the actual values. Overall, these metrics suggest that the model is accurate and performs well in estimating Fahrenheit temperatures from Celsius temperatures."
      ],
      "metadata": {
        "id": "ua3MExvIQ7yL"
      },
      "id": "ua3MExvIQ7yL"
    },
    {
      "cell_type": "code",
      "source": [],
      "metadata": {
        "id": "mi_5uSz4RJwf"
      },
      "id": "mi_5uSz4RJwf",
      "execution_count": 11,
      "outputs": []
    }
  ],
  "metadata": {
    "kernelspec": {
      "display_name": "Python 3 (ipykernel)",
      "language": "python",
      "name": "python3"
    },
    "language_info": {
      "codemirror_mode": {
        "name": "ipython",
        "version": 3
      },
      "file_extension": ".py",
      "mimetype": "text/x-python",
      "name": "python",
      "nbconvert_exporter": "python",
      "pygments_lexer": "ipython3",
      "version": "3.11.1"
    },
    "colab": {
      "provenance": [],
      "gpuType": "T4"
    },
    "accelerator": "GPU",
    "gpuClass": "standard"
  },
  "nbformat": 4,
  "nbformat_minor": 5
}